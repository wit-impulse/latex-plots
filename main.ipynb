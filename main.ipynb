{
 "cells": [
  {
   "cell_type": "code",
   "execution_count": null,
   "metadata": {},
   "outputs": [],
   "source": [
    "import matplotlib.pyplot as plt\n",
    "import numpy as np\n",
    "\n",
    "# Settings\n",
    "A = 6  # Want figures to be A6\n",
    "plt.rc('figure', figsize=[46.82 * .5**(.5 * A), 33.11 * .5**(.5 * A)])\n",
    "plt.rc('text', usetex=True)\n",
    "plt.rc('font', family='serif')\n",
    "\n",
    "# Create some data\n",
    "x = np.arange(10)\n",
    "y = x**2\n",
    "\n",
    "# Plot\n",
    "plt.plot(x, y, label=r'Dataset 1: R = t²')\n",
    "plt.title(r'\\LaTeX\\ in Labels')\n",
    "plt.xlabel(r'Time, $t$ [\\textmu s]')\n",
    "plt.text(7, 70, r'$R = t^2$')\n",
    "plt.legend(fontsize=8)"
   ]
  },
  {
   "cell_type": "code",
   "execution_count": null,
   "metadata": {},
   "outputs": [],
   "source": [
    "plt.rc('text.latex', preamble=r'\\usepackage{textgreek}')\n",
    "\n",
    "# Plot\n",
    "plt.plot(x, y, label=r'Dataset 1: R = t²')\n",
    "plt.title(r'\\LaTeX\\ in Labels')\n",
    "plt.xlabel(r'Time, $t$ [\\textmu s]')\n",
    "plt.ylabel(r'Resistance, $R$ [\\textOmega]')\n",
    "plt.text(7, 70, r'$R = t^2$')\n",
    "plt.legend(fontsize=8)"
   ]
  }
 ],
 "metadata": {
  "kernelspec": {
   "display_name": "FMC-py38",
   "language": "python",
   "name": "python3"
  },
  "language_info": {
   "codemirror_mode": {
    "name": "ipython",
    "version": 3
   },
   "file_extension": ".py",
   "mimetype": "text/x-python",
   "name": "python",
   "nbconvert_exporter": "python",
   "pygments_lexer": "ipython3",
   "version": "3.8.12"
  },
  "orig_nbformat": 4,
  "vscode": {
   "interpreter": {
    "hash": "499194e42e9648a1bf9c039127fc07e51fa80ba59b5a465d857144817f199061"
   }
  }
 },
 "nbformat": 4,
 "nbformat_minor": 2
}
